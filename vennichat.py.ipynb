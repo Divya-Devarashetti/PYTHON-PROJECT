{
 "cells": [
  {
   "cell_type": "code",
   "execution_count": 9,
   "id": "2ebf8738",
   "metadata": {},
   "outputs": [],
   "source": [
    "import tkinter as tk\n",
    "from tkinter import Button, Entry, StringVar\n",
    "from tkinter import * \n",
    "\n",
    "root = tk.Tk()\n",
    "root.title(\"vennichat\")\n",
    "root.geometry(\"312x260\")\n",
    "root.resizable(False, False)\n",
    "message = tk.StringVar()\n",
    "\n",
    "#Here frame-sizes, background colour defined\n",
    "chat_start = Frame(root,bd=1,bg='grey',width=40,height=8)\n",
    "chat_start.place(x=6,y=6,height=200,width=300)\n",
    "\n",
    "#Here text-border,background color, sizes\n",
    "txt=tk.Text(chat_start,bd=1,bg='alice blue',width=30,height=4)\n",
    "txt.pack(fill='both',expand=True)\n",
    "\n",
    "#entry-where user will type message.xscrollcommand-it helps to print in chat place\n",
    "msg= Entry(root,width=30, xscrollcommand=True, textvariable=message)\n",
    "msg.place(x=6, y=210,height=40,width=230)\n",
    "msg.focus()\n",
    "\n",
    "#Bot and user text prints in black colour and bot message also given\n",
    "txt.config(fg='black')\n",
    "txt.tag_config('usr',foreground='black')\n",
    "txt.insert(END,\"Bot:hai,welcome to this site\\nlet us know your contact details\\nour executive will contact you.\\n\\n\")\n",
    "m = msg.get()\n",
    "\n",
    "#defining function for user's text\n",
    "def sending_mesz(event=None):\n",
    "    usr_input = message.get()\n",
    "    usr_input = usr_input.lower()\n",
    "    txt.insert(END, f'you:{usr_input}'+'\\n','usr')\n",
    "\n",
    "# this is for send button\n",
    "b = Button(root, text=\"send\", bg=\"brown\", activebackground='grey',\n",
    "              fg=\"black\", font=('Arial'),command=sending_mesz,width=6,height=1) \n",
    "b.place(x=230, y=210)\n",
    "\n"
   ]
  },
  {
   "cell_type": "code",
   "execution_count": null,
   "id": "75d5114b",
   "metadata": {},
   "outputs": [],
   "source": []
  }
 ],
 "metadata": {
  "kernelspec": {
   "display_name": "Python 3 (ipykernel)",
   "language": "python",
   "name": "python3"
  },
  "language_info": {
   "codemirror_mode": {
    "name": "ipython",
    "version": 3
   },
   "file_extension": ".py",
   "mimetype": "text/x-python",
   "name": "python",
   "nbconvert_exporter": "python",
   "pygments_lexer": "ipython3",
   "version": "3.9.13"
  }
 },
 "nbformat": 4,
 "nbformat_minor": 5
}
